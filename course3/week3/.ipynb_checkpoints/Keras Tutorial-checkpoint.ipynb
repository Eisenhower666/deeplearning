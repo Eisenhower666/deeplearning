{
 "cells": [
  {
   "cell_type": "code",
   "execution_count": 3,
   "metadata": {
    "scrolled": true
   },
   "outputs": [],
   "source": [
    "import numpy as np\n",
    "from keras import layers\n",
    "from keras.layers import Input, Dense, Activation, ZeroPadding2D, BatchNormalization, Flatten, Conv2D\n",
    "from keras.layers import AveragePooling2D, MaxPooling2D, Dropout, GlobalMaxPooling2D, GlobalAveragePooling2D\n",
    "from keras.models import Model\n",
    "from keras.preprocessing import image\n",
    "from keras.utils import layer_utils\n",
    "from keras.utils.data_utils import get_file\n",
    "from keras.applications.imagenet_utils import preprocess_input \n",
    "import pydot\n",
    "from IPython.display import SVG\n",
    "from keras.utils.vis_utils import model_to_dot\n",
    "from keras.utils import plot_model\n",
    "from kt_utils import *\n",
    "\n",
    "import keras.backend as K\n",
    "K.set_image_data_format('channels_last')\n",
    "import matplotlib.pyplot as plt\n",
    "from matplotlib.pyplot import imshow"
   ]
  },
  {
   "cell_type": "code",
   "execution_count": 4,
   "metadata": {},
   "outputs": [
    {
     "name": "stdout",
     "output_type": "stream",
     "text": [
      "number of training examples = 600\n",
      "number of test examples = 150\n",
      "X_train shape: (600, 64, 64, 3)\n",
      "Y_train shape: (600, 1)\n",
      "X_test shape: (150, 64, 64, 3)\n",
      "Y_test shape: (150, 1)\n"
     ]
    }
   ],
   "source": [
    "X_train_orig, Y_train_orig, X_test_orig, Y_test_orig, classes = load_dataset()\n",
    "\n",
    "X_train = X_train_orig/255.\n",
    "X_test = X_test_orig/255.\n",
    "Y_train = Y_train_orig.T\n",
    "Y_test = Y_test_orig.T\n",
    "\n",
    "print('number of training examples = ' + str(X_train.shape[0]))\n",
    "print('number of test examples = ' + str(X_test.shape[0]))\n",
    "print('X_train shape: ' + str(X_train.shape))\n",
    "print('Y_train shape: ' + str(Y_train.shape))\n",
    "print('X_test shape: ' + str(X_test.shape))\n",
    "print('Y_test shape: ' + str(Y_test.shape))"
   ]
  },
  {
   "cell_type": "code",
   "execution_count": 5,
   "metadata": {},
   "outputs": [],
   "source": [
    "def model(input_shape):\n",
    "    #Define the input placeholderas a tensor with shape input_shape.\n",
    "    X_input = Input(input_shape)\n",
    "    \n",
    "    #Zero-Padding: pads the border of X_input with zeroes\n",
    "    X = ZeroPadding2D((3,3))(X_input)\n",
    "    \n",
    "    #CONV -> BN -> RELU Block applied to X\n",
    "    X = Conv2D(32, (7,7), strides = (1,1), name = 'conv0')(X)\n",
    "    X = BatchNormalization(aixs=3, name='bn0')(X)\n",
    "    X = Activation('relu')(X)\n",
    "    \n",
    "    #MAXPOOL\n",
    "    X = MaxPooling2D((2,2), name='max_pool')(X)\n",
    "    \n",
    "    #FLATTEN X (means convert it to a vector) + FULLYCONNECTED\n",
    "    X = Flatten()(X)\n",
    "    X = Dense(1, activation='sigmoid', name='fc')(X)\n",
    "    `\n",
    "    #Create model. This creates yours Keras model instance, you'll use this instance to train/test the model.\n",
    "    model = Model(inputs=X_input, outputs=X, name='HappyModel')\n",
    "    return model"
   ]
  },
  {
   "cell_type": "code",
   "execution_count": 10,
   "metadata": {},
   "outputs": [],
   "source": [
    "def HappyModel(input_shape):\n",
    "    \"\"\"\n",
    "    Arguments:\n",
    "        input_shape -- shape of the iamges of the dataset\n",
    "        \n",
    "    Returns:\n",
    "        model -- a Model() instance in Keras\n",
    "    \"\"\"\n",
    "    \n",
    "    X_input = Input(input_shape)\n",
    "    \n",
    "    X = ZeroPadding2D(padding=(1,1))(X_input)\n",
    "    #CONV -> BN -> RELU Block applied to X\n",
    "    X = Conv2D(8, kernel_size=(3,3), strides=(1,1), name='conv1')(X)\n",
    "    X = BatchNormalization(axis=3, name='bn1')(X)\n",
    "    X = Activation('relu')(X)\n",
    "    #MAXPOOL\n",
    "    X = MaxPooling2D(pool_size=(2,2), strides=(2,2), name='max_pool1')(X)\n",
    "    \n",
    "    X = ZeroPadding2D(padding=(1,1))(X_input)\n",
    "    X = Conv2D(16, kernel_size=(3,3), strides=(1,1), name='conv2')(X)\n",
    "    X = BatchNormalization(axis=3, name='bn2')(X)\n",
    "    X = Activation('relu')(X)\n",
    "    X = MaxPooling2D(pool_size=(2,2), strides=(2,2), name='max_pool2')(X)\n",
    "    \n",
    "    X = ZeroPadding2D(padding=(2,2))(X_input)\n",
    "    X = Conv2D(32, kernel_size=(3,3), strides=(1,1), name='conv3')(X)\n",
    "    X = BatchNormalization(axis=3, name='bn3')(X)\n",
    "    X = Activation('relu')(X)\n",
    "    X = MaxPooling2D(pool_size=(2,2), strides=(2,2), name='max_pool3')(X)\n",
    "    \n",
    "    X = Flatten()(X)\n",
    "    X = Dense(1, activation='sigmoid', name='fc')(X)\n",
    "    \n",
    "    model = Model(inputs= X_input, outputs=X, name='HappyModel')\n",
    "    \n",
    "    return model"
   ]
  },
  {
   "cell_type": "code",
   "execution_count": 11,
   "metadata": {},
   "outputs": [],
   "source": [
    "happyModel = HappyModel((64,64,3))"
   ]
  },
  {
   "cell_type": "code",
   "execution_count": 12,
   "metadata": {},
   "outputs": [],
   "source": [
    "import keras\n",
    "happyModel.compile(optimizer=keras.optimizers.Adam(lr=0.001, beta_1=0.9, beta_2=0.999, epsilon=1e-08, decay=0.0),\\\n",
    "                  loss = 'binary_crossentropy', metrics=['accuracy'])"
   ]
  },
  {
   "cell_type": "code",
   "execution_count": 14,
   "metadata": {},
   "outputs": [
    {
     "name": "stdout",
     "output_type": "stream",
     "text": [
      "Epoch 1/20\n",
      "600/600 [==============================] - 8s 13ms/step - loss: 1.5252 - acc: 0.6967\n",
      "Epoch 2/20\n",
      "600/600 [==============================] - 1s 877us/step - loss: 0.2431 - acc: 0.9017\n",
      "Epoch 3/20\n",
      "600/600 [==============================] - 1s 891us/step - loss: 0.1420 - acc: 0.9350\n",
      "Epoch 4/20\n",
      "600/600 [==============================] - 1s 891us/step - loss: 0.0805 - acc: 0.9750\n",
      "Epoch 5/20\n",
      "600/600 [==============================] - 1s 883us/step - loss: 0.0548 - acc: 0.9850\n",
      "Epoch 6/20\n",
      "600/600 [==============================] - 1s 884us/step - loss: 0.0603 - acc: 0.9767\n",
      "Epoch 7/20\n",
      "600/600 [==============================] - 1s 887us/step - loss: 0.0488 - acc: 0.9883\n",
      "Epoch 8/20\n",
      "600/600 [==============================] - 1s 886us/step - loss: 0.0714 - acc: 0.9783\n",
      "Epoch 9/20\n",
      "600/600 [==============================] - 1s 880us/step - loss: 0.0613 - acc: 0.9783\n",
      "Epoch 10/20\n",
      "600/600 [==============================] - 1s 893us/step - loss: 0.0506 - acc: 0.9817\n",
      "Epoch 11/20\n",
      "600/600 [==============================] - 1s 1ms/step - loss: 0.0257 - acc: 0.9933\n",
      "Epoch 12/20\n",
      "600/600 [==============================] - 1s 991us/step - loss: 0.0273 - acc: 0.9900\n",
      "Epoch 13/20\n",
      "600/600 [==============================] - 1s 997us/step - loss: 0.1052 - acc: 0.9633\n",
      "Epoch 14/20\n",
      "600/600 [==============================] - 1s 893us/step - loss: 0.1110 - acc: 0.9617\n",
      "Epoch 15/20\n",
      "600/600 [==============================] - 1s 894us/step - loss: 0.0223 - acc: 0.9933\n",
      "Epoch 16/20\n",
      "600/600 [==============================] - 1s 884us/step - loss: 0.0428 - acc: 0.9800\n",
      "Epoch 17/20\n",
      "600/600 [==============================] - 1s 877us/step - loss: 0.0352 - acc: 0.9817\n",
      "Epoch 18/20\n",
      "600/600 [==============================] - 1s 898us/step - loss: 0.0240 - acc: 0.9950\n",
      "Epoch 19/20\n",
      "600/600 [==============================] - 1s 920us/step - loss: 0.0526 - acc: 0.9817\n",
      "Epoch 20/20\n",
      "600/600 [==============================] - 1s 1ms/step - loss: 0.0141 - acc: 0.9967\n"
     ]
    },
    {
     "data": {
      "text/plain": [
       "<keras.callbacks.History at 0x7f650dc144a8>"
      ]
     },
     "execution_count": 14,
     "metadata": {},
     "output_type": "execute_result"
    }
   ],
   "source": [
    "happyModel.fit(x=X_train, y=Y_train, epochs=20, batch_size=16)"
   ]
  },
  {
   "cell_type": "code",
   "execution_count": 16,
   "metadata": {},
   "outputs": [
    {
     "name": "stdout",
     "output_type": "stream",
     "text": [
      "150/150 [==============================] - 0s 400us/step\n",
      "\n",
      "Loss = 0.2767600138982137\n",
      "Test Accuracy = [0.9066666682561239]\n"
     ]
    }
   ],
   "source": [
    "preds = happyModel.evaluate(x=X_test, y=Y_test)\n",
    "print()\n",
    "print('Loss = ' + str(preds[0]))\n",
    "print('Test Accuracy = ' + str([preds[1]]))"
   ]
  },
  {
   "cell_type": "code",
   "execution_count": 19,
   "metadata": {},
   "outputs": [
    {
     "data": {
      "text/plain": [
       "list"
      ]
     },
     "execution_count": 19,
     "metadata": {},
     "output_type": "execute_result"
    }
   ],
   "source": [
    "type(preds)"
   ]
  },
  {
   "cell_type": "code",
   "execution_count": 20,
   "metadata": {},
   "outputs": [
    {
     "data": {
      "text/plain": [
       "2"
      ]
     },
     "execution_count": 20,
     "metadata": {},
     "output_type": "execute_result"
    }
   ],
   "source": [
    "len(preds)"
   ]
  },
  {
   "cell_type": "code",
   "execution_count": null,
   "metadata": {},
   "outputs": [],
   "source": []
  }
 ],
 "metadata": {
  "kernelspec": {
   "display_name": "Python 3-tf",
   "language": "python",
   "name": "tfkernel"
  },
  "language_info": {
   "codemirror_mode": {
    "name": "ipython",
    "version": 3
   },
   "file_extension": ".py",
   "mimetype": "text/x-python",
   "name": "python",
   "nbconvert_exporter": "python",
   "pygments_lexer": "ipython3",
   "version": "3.6.4"
  }
 },
 "nbformat": 4,
 "nbformat_minor": 2
}
