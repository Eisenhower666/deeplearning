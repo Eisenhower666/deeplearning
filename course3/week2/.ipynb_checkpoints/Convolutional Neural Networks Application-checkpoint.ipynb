{
 "cells": [
  {
   "cell_type": "code",
   "execution_count": 1,
   "metadata": {},
   "outputs": [
    {
     "name": "stderr",
     "output_type": "stream",
     "text": [
      "/home/cb/.conda/envs/tensorflow/lib/python3.6/site-packages/h5py/__init__.py:36: FutureWarning: Conversion of the second argument of issubdtype from `float` to `np.floating` is deprecated. In future, it will be treated as `np.float64 == np.dtype(float).type`.\n",
      "  from ._conv import register_converters as _register_converters\n"
     ]
    }
   ],
   "source": [
    "import tensorflow as tf\n",
    "from tensorflow.python.framework import ops\n",
    "import numpy as np\n",
    "import h5py\n",
    "import matplotlib.pyplot as plt\n",
    "import scipy\n",
    "from PIL import Image\n",
    "from scipy import ndimage\n",
    "import math\n",
    "from cnn_utils import *\n",
    "\n",
    "np.random.seed(1)"
   ]
  },
  {
   "cell_type": "code",
   "execution_count": 2,
   "metadata": {},
   "outputs": [],
   "source": [
    "X_train_orig, Y_train_orig, X_test_orig, Y_test_orig, classes = load_dataset()"
   ]
  },
  {
   "cell_type": "code",
   "execution_count": 3,
   "metadata": {},
   "outputs": [
    {
     "name": "stdout",
     "output_type": "stream",
     "text": [
      "y = 2\n"
     ]
    },
    {
     "data": {
      "image/png": "[encoded data removed]",
      "text/plain": [
       "<Figure size 432x288 with 1 Axes>"
      ]
     },
     "metadata": {},
     "output_type": "display_data"
    }
   ],
   "source": [
    "index = 6\n",
    "plt.imshow(X_train_orig[index])\n",
    "print('y = ' + str(np.squeeze(Y_train_orig[:, index])))"
   ]
  },
  {
   "cell_type": "code",
   "execution_count": 4,
   "metadata": {},
   "outputs": [
    {
     "data": {
      "text/plain": [
       "(1, 1080)"
      ]
     },
     "execution_count": 4,
     "metadata": {},
     "output_type": "execute_result"
    }
   ],
   "source": [
    "Y_train_orig.shape"
   ]
  },
  {
   "cell_type": "code",
   "execution_count": 5,
   "metadata": {},
   "outputs": [
    {
     "data": {
      "text/plain": [
       "(1080, 64, 64, 3)"
      ]
     },
     "execution_count": 5,
     "metadata": {},
     "output_type": "execute_result"
    }
   ],
   "source": [
    "X_train_orig.shape"
   ]
  },
  {
   "cell_type": "code",
   "execution_count": 6,
   "metadata": {},
   "outputs": [
    {
     "name": "stdout",
     "output_type": "stream",
     "text": [
      "number of training examples = 1080\n",
      "numbet of test examples = 120\n",
      "X_train shape: (1080, 64, 64, 3)\n",
      "Y_train shape: (1080, 6)\n",
      "X_test shape: (120, 64, 64, 3)\n",
      "Y_test shape: (120, 6)\n"
     ]
    }
   ],
   "source": [
    "X_train = X_train_orig/255.\n",
    "X_test = X_test_orig/255.\n",
    "Y_train = convert_to_one_hot(Y_train_orig, 6).T\n",
    "Y_test = convert_to_one_hot(Y_test_orig, 6).T\n",
    "print('number of training examples = ' + str(X_train.shape[0]))\n",
    "print('numbet of test examples = ' + str(X_test.shape[0]))\n",
    "print('X_train shape: ' + str(X_train.shape))\n",
    "print('Y_train shape: ' + str(Y_train.shape))\n",
    "print('X_test shape: ' + str(X_test.shape))\n",
    "print('Y_test shape: ' + str(Y_test.shape))\n",
    "conv_layers = {}"
   ]
  },
  {
   "cell_type": "code",
   "execution_count": 7,
   "metadata": {},
   "outputs": [],
   "source": [
    "def create_placeholders(n_H0, n_W0, n_C0, n_y):\n",
    "    X = tf.placeholder(tf.float32, shape=(None, n_H0, n_W0, n_C0))\n",
    "    Y = tf.placeholder(tf.float32, shape=(None, n_y))\n",
    "    return X,Y"
   ]
  },
  {
   "cell_type": "code",
   "execution_count": 8,
   "metadata": {},
   "outputs": [
    {
     "name": "stdout",
     "output_type": "stream",
     "text": [
      "X = Tensor(\"Placeholder:0\", shape=(?, 64, 64, 3), dtype=float32)\n",
      "Y = Tensor(\"Placeholder_1:0\", shape=(?, 6), dtype=float32)\n"
     ]
    }
   ],
   "source": [
    "X, Y = create_placeholders(64, 64, 3, 6)\n",
    "print('X = ' + str(X))\n",
    "print('Y = ' + str(Y))"
   ]
  },
  {
   "cell_type": "code",
   "execution_count": 9,
   "metadata": {},
   "outputs": [],
   "source": [
    "def initialize_parameters():\n",
    "    tf.set_random_seed(1)\n",
    "    W1 = tf.get_variable('W1', [4,4,3,8], initializer=tf.contrib.layers.xavier_initializer(seed=0))\n",
    "    W2 = tf.get_variable('W2', [2,2,8,16], initializer=tf.contrib.layers.xavier_initializer(seed=0))\n",
    "    parameters = {'W1': W1, 'W2': W2}\n",
    "    \n",
    "    return parameters"
   ]
  },
  {
   "cell_type": "markdown",
   "metadata": {},
   "source": [
    "### Forward propagation\n",
    "    CONV2D -> RELU -> MAXPOOL -> CONV2D -> RELU -> MAXPOOL -> FLATTEN -> FULLYCONNECTED"
   ]
  },
  {
   "cell_type": "code",
   "execution_count": 10,
   "metadata": {},
   "outputs": [],
   "source": [
    "def forward_propagation(X, parameters):\n",
    "    W1 = parameters['W1']\n",
    "    W2 = parameters['W2']\n",
    "    \n",
    "    Z1 = tf.nn.conv2d(X, W1, strides=[1,1,1,1], padding='SAME')\n",
    "    A1 = tf.nn.relu(Z1)\n",
    "    P1 = tf.nn.max_pool(A1, ksize = [1,8,8,1], strides=[1,8,8,1],padding='SAME')\n",
    "    \n",
    "    Z2 = tf.nn.conv2d(P1, W2, strides=[1,1,1,1], padding='SAME')\n",
    "    A2 = tf.nn.relu(Z2)\n",
    "    P2 = tf.nn.max_pool(A2, ksize=[1,4,4,1], strides=[1,4,4,1],padding='SAME')\n",
    "    \n",
    "    P2 = tf.contrib.layers.flatten(P2)\n",
    "    \n",
    "    Z3 = tf.contrib.layers.fully_connected(P2, 6, activation_fn=None)\n",
    "    \n",
    "    return Z3"
   ]
  },
  {
   "cell_type": "code",
   "execution_count": 11,
   "metadata": {},
   "outputs": [],
   "source": [
    "def compute_cost(Z3, Y):\n",
    "    cost = tf.reduce_mean(tf.nn.softmax_cross_entropy_with_logits(logits=Z3,labels=Y))\n",
    "    return cost"
   ]
  },
  {
   "cell_type": "code",
   "execution_count": 14,
   "metadata": {},
   "outputs": [],
   "source": [
    "def model(X_train, Y_train, X_test, Y_test, learning_rate=0.009, num_epoches=100, minibatch_size=64, print_cost=True):\n",
    "    ops.reset_default_graph()\n",
    "    tf.set_random_seed(1)\n",
    "    seed = 3\n",
    "    (m, n_H0, n_W0, n_C0) = X_train.shape\n",
    "    n_y = Y_train.shape[1]\n",
    "    costs = []\n",
    "    \n",
    "    X ,Y = create_placeholders(n_H0, n_W0, n_C0, n_y)\n",
    "    parameters = initialize_parameters()\n",
    "    Z3 = forward_propagation(X, parameters)\n",
    "    \n",
    "    cost = compute_cost(Z3, Y)\n",
    "    \n",
    "    optimizer = tf.train.AdamOptimizer(learning_rate).minimize(cost)\n",
    "    \n",
    "    init = tf.global_variables_initializer()\n",
    "    \n",
    "    with tf.Session() as sess:\n",
    "        sess.run(init)\n",
    "        for epoch in range(num_epoches):\n",
    "            minibatch_cost = 0\n",
    "            num_minibatches = int(m/minibatch_size)\n",
    "            seed = seed + 1\n",
    "            minibatches = random_mini_batches(X_train, Y_train, minibatch_size, seed)\n",
    "            for minibatch in minibatches:\n",
    "                (minibatch_X, minibatch_Y) = minibatch\n",
    "                _, temp_cost = sess.run([optimizer,cost],feed_dict={X: minibatch_X, Y: minibatch_Y})\n",
    "                minibatch_cost += temp_cost/num_minibatches\n",
    "                \n",
    "            if print_cost == True and epoch%5 == 0:\n",
    "                print('Cost after epoch %i: %f' % (epoch, minibatch_cost))\n",
    "            if print_cost == True and epoch%1 == 0:\n",
    "                costs.append(minibatch_cost)\n",
    "                \n",
    "        plt.plot(np.squeeze(costs))\n",
    "        plt.ylabel('cost')\n",
    "        plt.xlabel('iterations (per tens)')\n",
    "        plt.title('Learning rate =' + str(learning_rate))\n",
    "        plt.show()\n",
    "        \n",
    "        predict_op = tf.argmax(Z3, 1)\n",
    "        correct_prediction = tf.equal(predict_op, tf.argmax(Y, 1))\n",
    "        \n",
    "        accuracy = tf.reduce_mean(tf.cast(correct_prediction, 'float'))\n",
    "        print(accuracy)\n",
    "        train_accuracy = accuracy.eval({X: X_train, Y: Y_train})\n",
    "        test_accuracy = accuracy.eval({X: X_test, Y: Y_test})\n",
    "        print('Train Accuracy: ', train_accuracy)\n",
    "        print('Test Accuracy: ', test_accuracy)\n",
    "        \n",
    "        return train_accuracy, test_accuracy, parameters"
   ]
  },
  {
   "cell_type": "code",
   "execution_count": 15,
   "metadata": {},
   "outputs": [
    {
     "name": "stdout",
     "output_type": "stream",
     "text": [
      "Cost after epoch 0: 1.921332\n",
      "Cost after epoch 5: 1.904156\n",
      "Cost after epoch 10: 1.904309\n",
      "Cost after epoch 15: 1.904477\n",
      "Cost after epoch 20: 1.901876\n",
      "Cost after epoch 25: 1.784078\n",
      "Cost after epoch 30: 1.681052\n",
      "Cost after epoch 35: 1.618207\n",
      "Cost after epoch 40: 1.597972\n",
      "Cost after epoch 45: 1.566707\n",
      "Cost after epoch 50: 1.554486\n",
      "Cost after epoch 55: 1.502187\n",
      "Cost after epoch 60: 1.461035\n",
      "Cost after epoch 65: 1.304477\n",
      "Cost after epoch 70: 1.201501\n",
      "Cost after epoch 75: 1.144229\n",
      "Cost after epoch 80: 1.098368\n",
      "Cost after epoch 85: 1.077411\n",
      "Cost after epoch 90: 1.043173\n",
      "Cost after epoch 95: 1.022620\n",
      "Cost after epoch 100: 1.013470\n",
      "Cost after epoch 105: 0.962533\n",
      "Cost after epoch 110: 0.961424\n",
      "Cost after epoch 115: 0.929818\n",
      "Cost after epoch 120: 0.931082\n",
      "Cost after epoch 125: 0.891719\n",
      "Cost after epoch 130: 0.900744\n",
      "Cost after epoch 135: 0.860303\n",
      "Cost after epoch 140: 0.888700\n",
      "Cost after epoch 145: 0.833127\n",
      "Cost after epoch 150: 0.862938\n",
      "Cost after epoch 155: 0.804592\n",
      "Cost after epoch 160: 0.795786\n",
      "Cost after epoch 165: 0.790318\n",
      "Cost after epoch 170: 0.778954\n",
      "Cost after epoch 175: 0.864323\n",
      "Cost after epoch 180: 0.802744\n",
      "Cost after epoch 185: 0.762559\n",
      "Cost after epoch 190: 0.749582\n",
      "Cost after epoch 195: 0.762935\n",
      "Cost after epoch 200: 0.756667\n",
      "Cost after epoch 205: 0.747279\n",
      "Cost after epoch 210: 0.728303\n",
      "Cost after epoch 215: 0.723476\n",
      "Cost after epoch 220: 0.716144\n",
      "Cost after epoch 225: 0.720895\n",
      "Cost after epoch 230: 0.720744\n",
      "Cost after epoch 235: 0.723051\n",
      "Cost after epoch 240: 0.699759\n",
      "Cost after epoch 245: 0.713502\n",
      "Cost after epoch 250: 0.718286\n",
      "Cost after epoch 255: 0.710530\n",
      "Cost after epoch 260: 0.697781\n",
      "Cost after epoch 265: 0.727124\n",
      "Cost after epoch 270: 0.673364\n",
      "Cost after epoch 275: 0.678994\n",
      "Cost after epoch 280: 0.658651\n",
      "Cost after epoch 285: 0.688697\n",
      "Cost after epoch 290: 0.684921\n",
      "Cost after epoch 295: 0.660035\n",
      "Cost after epoch 300: 0.712833\n",
      "Cost after epoch 305: 0.672368\n",
      "Cost after epoch 310: 0.641959\n",
      "Cost after epoch 315: 0.636507\n",
      "Cost after epoch 320: 0.653275\n",
      "Cost after epoch 325: 0.716654\n",
      "Cost after epoch 330: 0.645122\n",
      "Cost after epoch 335: 0.649712\n",
      "Cost after epoch 340: 0.644994\n",
      "Cost after epoch 345: 0.639179\n",
      "Cost after epoch 350: 0.678815\n",
      "Cost after epoch 355: 0.623232\n",
      "Cost after epoch 360: 0.632592\n",
      "Cost after epoch 365: 0.629938\n",
      "Cost after epoch 370: 0.612373\n",
      "Cost after epoch 375: 0.619023\n",
      "Cost after epoch 380: 0.635531\n",
      "Cost after epoch 385: 0.608156\n",
      "Cost after epoch 390: 0.606185\n",
      "Cost after epoch 395: 0.599611\n",
      "Cost after epoch 400: 0.669739\n",
      "Cost after epoch 405: 0.608423\n",
      "Cost after epoch 410: 0.633361\n",
      "Cost after epoch 415: 0.625567\n",
      "Cost after epoch 420: 0.604154\n",
      "Cost after epoch 425: 0.618138\n",
      "Cost after epoch 430: 0.627807\n",
      "Cost after epoch 435: 0.589202\n",
      "Cost after epoch 440: 0.606098\n",
      "Cost after epoch 445: 0.594352\n",
      "Cost after epoch 450: 0.604729\n",
      "Cost after epoch 455: 0.606003\n",
      "Cost after epoch 460: 0.601485\n",
      "Cost after epoch 465: 0.593550\n",
      "Cost after epoch 470: 0.612173\n",
      "Cost after epoch 475: 0.605489\n",
      "Cost after epoch 480: 0.599144\n",
      "Cost after epoch 485: 0.617982\n",
      "Cost after epoch 490: 0.588288\n",
      "Cost after epoch 495: 0.571253\n",
      "Cost after epoch 500: 0.587420\n",
      "Cost after epoch 505: 0.590757\n",
      "Cost after epoch 510: 0.587004\n",
      "Cost after epoch 515: 0.562889\n",
      "Cost after epoch 520: 0.574984\n",
      "Cost after epoch 525: 0.613747\n",
      "Cost after epoch 530: 0.600809\n",
      "Cost after epoch 535: 0.573126\n",
      "Cost after epoch 540: 0.556640\n",
      "Cost after epoch 545: 0.588166\n",
      "Cost after epoch 550: 0.585525\n",
      "Cost after epoch 555: 0.569089\n",
      "Cost after epoch 560: 0.562518\n",
      "Cost after epoch 565: 0.566245\n",
      "Cost after epoch 570: 0.591564\n",
      "Cost after epoch 575: 0.562997\n",
      "Cost after epoch 580: 0.560658\n",
      "Cost after epoch 585: 0.562300\n",
      "Cost after epoch 590: 0.555127\n",
      "Cost after epoch 595: 0.581219\n",
      "Cost after epoch 600: 0.562488\n",
      "Cost after epoch 605: 0.603172\n",
      "Cost after epoch 610: 0.563450\n",
      "Cost after epoch 615: 0.594460\n",
      "Cost after epoch 620: 0.577605\n",
      "Cost after epoch 625: 0.583013\n",
      "Cost after epoch 630: 0.594331\n",
      "Cost after epoch 635: 0.567336\n",
      "Cost after epoch 640: 0.564474\n",
      "Cost after epoch 645: 0.553660\n",
      "Cost after epoch 650: 0.567448\n",
      "Cost after epoch 655: 0.568521\n",
      "Cost after epoch 660: 0.556726\n",
      "Cost after epoch 665: 0.575539\n",
      "Cost after epoch 670: 0.560494\n",
      "Cost after epoch 675: 0.554014\n",
      "Cost after epoch 680: 0.554935\n",
      "Cost after epoch 685: 0.537921\n",
      "Cost after epoch 690: 0.559172\n",
      "Cost after epoch 695: 0.628299\n",
      "Cost after epoch 700: 0.539341\n",
      "Cost after epoch 705: 0.568334\n",
      "Cost after epoch 710: 0.548669\n",
      "Cost after epoch 715: 0.559503\n",
      "Cost after epoch 720: 0.562956\n",
      "Cost after epoch 725: 0.621850\n",
      "Cost after epoch 730: 0.568189\n",
      "Cost after epoch 735: 0.556949\n",
      "Cost after epoch 740: 0.535651\n",
      "Cost after epoch 745: 0.560784\n",
      "Cost after epoch 750: 0.554132\n",
      "Cost after epoch 755: 0.540369\n",
      "Cost after epoch 760: 0.566383\n",
      "Cost after epoch 765: 0.549085\n",
      "Cost after epoch 770: 0.534381\n",
      "Cost after epoch 775: 0.547513\n",
      "Cost after epoch 780: 0.544191\n",
      "Cost after epoch 785: 0.549261\n",
      "Cost after epoch 790: 0.574963\n",
      "Cost after epoch 795: 0.531952\n",
      "Cost after epoch 800: 0.540269\n",
      "Cost after epoch 805: 0.555662\n",
      "Cost after epoch 810: 0.550504\n",
      "Cost after epoch 815: 0.541063\n",
      "Cost after epoch 820: 0.549537\n",
      "Cost after epoch 825: 0.544959\n",
      "Cost after epoch 830: 0.545827\n",
      "Cost after epoch 835: 0.526189\n",
      "Cost after epoch 840: 0.539570\n",
      "Cost after epoch 845: 0.532842\n",
      "Cost after epoch 850: 0.537445\n",
      "Cost after epoch 855: 0.524346\n",
      "Cost after epoch 860: 0.532444\n",
      "Cost after epoch 865: 0.561514\n",
      "Cost after epoch 870: 0.583451\n",
      "Cost after epoch 875: 0.523421\n",
      "Cost after epoch 880: 0.533136\n",
      "Cost after epoch 885: 0.561004\n",
      "Cost after epoch 890: 0.544123\n",
      "Cost after epoch 895: 0.539664\n",
      "Cost after epoch 900: 0.530893\n",
      "Cost after epoch 905: 0.544047\n",
      "Cost after epoch 910: 0.538370\n",
      "Cost after epoch 915: 0.542013\n",
      "Cost after epoch 920: 0.547774\n",
      "Cost after epoch 925: 0.537143\n",
      "Cost after epoch 930: 0.542035\n",
      "Cost after epoch 935: 0.539080\n",
      "Cost after epoch 940: 0.518865\n",
      "Cost after epoch 945: 0.570249\n",
      "Cost after epoch 950: 0.628577\n",
      "Cost after epoch 955: 0.534768\n",
      "Cost after epoch 960: 0.529528\n",
      "Cost after epoch 965: 0.561338\n",
      "Cost after epoch 970: 0.551298\n",
      "Cost after epoch 975: 0.520830\n",
      "Cost after epoch 980: 0.540380\n",
      "Cost after epoch 985: 0.557874\n",
      "Cost after epoch 990: 0.572693\n",
      "Cost after epoch 995: 0.549623\n"
     ]
    },
    {
     "data": {
      "image/png": "[encoded data removed]",
      "text/plain": [
       "<Figure size 432x288 with 1 Axes>"
      ]
     },
     "metadata": {},
     "output_type": "display_data"
    },
    {
     "name": "stdout",
     "output_type": "stream",
     "text": [
      "Tensor(\"Mean_1:0\", shape=(), dtype=float32)\n",
      "Train Accuracy:  0.82685184\n",
      "Test Accuracy:  0.65833336\n"
     ]
    }
   ],
   "source": [
    "_, _, parameters = model(X_train, Y_train, X_test, Y_test)"
   ]
  },
  {
   "cell_type": "code",
   "execution_count": 16,
   "metadata": {},
   "outputs": [
    {
     "ename": "AttributeError",
     "evalue": "module 'tensorflow' has no attribute 'version'",
     "output_type": "error",
     "traceback": [
      "\u001b[0;31m---------------------------------------------------------------------------\u001b[0m",
      "\u001b[0;31mAttributeError\u001b[0m                            Traceback (most recent call last)",
      "\u001b[0;32m<ipython-input-16-0157324439fb>\u001b[0m in \u001b[0;36m<module>\u001b[0;34m()\u001b[0m\n\u001b[0;32m----> 1\u001b[0;31m \u001b[0mtf\u001b[0m\u001b[0;34m.\u001b[0m\u001b[0mversion\u001b[0m\u001b[0;34m\u001b[0m\u001b[0m\n\u001b[0m",
      "\u001b[0;31mAttributeError\u001b[0m: module 'tensorflow' has no attribute 'version'"
     ]
    }
   ],
   "source": [
    "tf.version"
   ]
  },
  {
   "cell_type": "code",
   "execution_count": 17,
   "metadata": {},
   "outputs": [
    {
     "data": {
      "text/plain": [
       "['/home/cb/.conda/envs/tensorflow/lib/python3.6/site-packages/tensorflow']"
      ]
     },
     "execution_count": 17,
     "metadata": {},
     "output_type": "execute_result"
    }
   ],
   "source": [
    "tf.__path__"
   ]
  },
  {
   "cell_type": "code",
   "execution_count": 18,
   "metadata": {},
   "outputs": [
    {
     "data": {
      "text/plain": [
       "'1.6.0'"
      ]
     },
     "execution_count": 18,
     "metadata": {},
     "output_type": "execute_result"
    }
   ],
   "source": [
    "tf.__version__"
   ]
  },
  {
   "cell_type": "code",
   "execution_count": null,
   "metadata": {},
   "outputs": [],
   "source": []
  }
 ],
 "metadata": {
  "kernelspec": {
   "display_name": "Python 3-tf",
   "language": "python",
   "name": "tfkernel"
  },
  "language_info": {
   "codemirror_mode": {
    "name": "ipython",
    "version": 3
   },
   "file_extension": ".py",
   "mimetype": "text/x-python",
   "name": "python",
   "nbconvert_exporter": "python",
   "pygments_lexer": "ipython3",
   "version": "3.6.4"
  }
 },
 "nbformat": 4,
 "nbformat_minor": 2
}
